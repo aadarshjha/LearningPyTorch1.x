{
  "nbformat": 4,
  "nbformat_minor": 0,
  "metadata": {
    "colab": {
      "name": "05_pretrained_convnets_and_transfer_learning.ipynb",
      "provenance": [],
      "include_colab_link": true
    },
    "kernelspec": {
      "name": "python3",
      "display_name": "Python 3"
    }
  },
  "cells": [
    {
      "cell_type": "markdown",
      "metadata": {
        "id": "view-in-github",
        "colab_type": "text"
      },
      "source": [
        "<a href=\"https://colab.research.google.com/github/ccarpenterg/LearningPyTorch1.x/blob/master/05_pretrained_convnets_and_transfer_learning.ipynb\" target=\"_parent\"><img src=\"https://colab.research.google.com/assets/colab-badge.svg\" alt=\"Open In Colab\"/></a>"
      ]
    },
    {
      "cell_type": "markdown",
      "metadata": {
        "id": "qXbVATCtr9-N",
        "colab_type": "text"
      },
      "source": [
        "# Pretrained Convolutional Networks"
      ]
    },
    {
      "cell_type": "code",
      "metadata": {
        "id": "zZr413pgrh2K",
        "colab_type": "code",
        "colab": {}
      },
      "source": [
        "!pip install torch==1.1.0 torchvision==0.3.0"
      ],
      "execution_count": 0,
      "outputs": []
    },
    {
      "cell_type": "code",
      "metadata": {
        "id": "CiAvJGzujoHm",
        "colab_type": "code",
        "colab": {}
      },
      "source": [
        "import numpy as np\n",
        "\n",
        "import torch\n",
        "import torch.nn as nn\n",
        "import torch.optim as optim\n",
        "import torchvision\n",
        "from torchvision import datasets, models, transforms"
      ],
      "execution_count": 0,
      "outputs": []
    },
    {
      "cell_type": "code",
      "metadata": {
        "id": "rwYkGo2Krz48",
        "colab_type": "code",
        "colab": {}
      },
      "source": [
        "model = models.resnet101(pretrained=True)"
      ],
      "execution_count": 0,
      "outputs": []
    }
  ]
}