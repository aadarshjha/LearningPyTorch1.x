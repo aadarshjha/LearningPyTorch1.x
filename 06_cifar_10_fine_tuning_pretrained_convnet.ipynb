{
  "nbformat": 4,
  "nbformat_minor": 0,
  "metadata": {
    "colab": {
      "name": "06_cifar-10_fine_tuning_pretrained_convnet.ipynb",
      "provenance": [],
      "toc_visible": true,
      "include_colab_link": true
    },
    "kernelspec": {
      "name": "python3",
      "display_name": "Python 3"
    },
    "accelerator": "GPU"
  },
  "cells": [
    {
      "cell_type": "markdown",
      "metadata": {
        "id": "view-in-github",
        "colab_type": "text"
      },
      "source": [
        "<a href=\"https://colab.research.google.com/github/ccarpenterg/LearningPyTorch1.x/blob/master/06_cifar_10_fine_tuning_pretrained_convnet.ipynb\" target=\"_parent\"><img src=\"https://colab.research.google.com/assets/colab-badge.svg\" alt=\"Open In Colab\"/></a>"
      ]
    },
    {
      "cell_type": "markdown",
      "metadata": {
        "id": "fjOYtsNSQwiP",
        "colab_type": "text"
      },
      "source": [
        "## CIFAR-10: Fine-tuning a pre-trained convnet"
      ]
    },
    {
      "cell_type": "code",
      "metadata": {
        "id": "acNSIzr1Ngl0",
        "colab_type": "code",
        "colab": {}
      },
      "source": [
        "import numpy as np\n",
        "\n",
        "import torch\n",
        "import torch.nn.functional as F\n",
        "import torch.nn as nn\n",
        "import torch.optim as optim\n",
        "import torchvision\n",
        "import torchvision.transforms as transforms\n",
        "\n",
        "from torch.optim import lr_scheduler\n",
        "\n",
        "from torchvision import models\n",
        "from torchvision.datasets import CIFAR10\n",
        "from torch.utils.data import DataLoader\n",
        "\n",
        "import statistics"
      ],
      "execution_count": 0,
      "outputs": []
    },
    {
      "cell_type": "code",
      "metadata": {
        "id": "7LigM_8TTHum",
        "colab_type": "code",
        "colab": {
          "base_uri": "https://localhost:8080/",
          "height": 51
        },
        "outputId": "20d35b95-62fd-4250-8988-b7e49ba14ba3"
      },
      "source": [
        "print('PyTorch version:', torch.__version__)\n",
        "print('Torchvision version:', torchvision.__version__)"
      ],
      "execution_count": 2,
      "outputs": [
        {
          "output_type": "stream",
          "text": [
            "PyTorch version: 1.3.1\n",
            "Torchvision version: 0.4.2\n"
          ],
          "name": "stdout"
        }
      ]
    },
    {
      "cell_type": "code",
      "metadata": {
        "id": "mbJfT52eTXYK",
        "colab_type": "code",
        "colab": {}
      },
      "source": [
        "dataset_transform = transforms.Compose([\n",
        "    transforms.ToTensor()\n",
        "])\n",
        "\n",
        "train_set = CIFAR10('./cifar10', train=True, download=True, transform=dataset_transform)\n",
        "valid_set = CIFAR10('./cifar10', train=False, download=True, transform=dataset_transform)"
      ],
      "execution_count": 0,
      "outputs": []
    },
    {
      "cell_type": "code",
      "metadata": {
        "id": "S93LJtGTXIVl",
        "colab_type": "code",
        "colab": {}
      },
      "source": [
        "train_loader = DataLoader(train_set, batch_size=32, num_workers=0, shuffle=True)\n",
        "valid_loader = DataLoader(valid_set, batch_size=32, num_workers=0, shuffle=False)"
      ],
      "execution_count": 0,
      "outputs": []
    },
    {
      "cell_type": "code",
      "metadata": {
        "id": "dWDhCCtIyw_q",
        "colab_type": "code",
        "colab": {}
      },
      "source": [
        "def train(model, loss_fn, optimizer):\n",
        "\n",
        "    model.train()\n",
        "    \n",
        "    train_batch_losses = []\n",
        "    \n",
        "    for batch, labels in train_loader:\n",
        "        batch = batch.to(cuda)\n",
        "        labels = labels.to(cuda)\n",
        "        \n",
        "        optimizer.zero_grad()\n",
        "        y_pred = model(batch)\n",
        "        loss = loss_fn(y_pred, labels)\n",
        "        loss.backward()\n",
        "        optimizer.step()\n",
        "        \n",
        "        train_batch_losses.append(float(loss))\n",
        "        \n",
        "        mean_loss = statistics.mean(train_batch_losses)\n",
        "        \n",
        "    return mean_loss\n",
        "\n",
        "def validate(model, loss_fn, optimizer):\n",
        "\n",
        "    model.eval()\n",
        "    \n",
        "    predictions = []\n",
        "    \n",
        "    with torch.no_grad():\n",
        "        validation_batch_losses = []\n",
        "        \n",
        "        for batch, labels in valid_loader:\n",
        "            batch = batch.to(cuda)\n",
        "            labels = labels.to(cuda)\n",
        "            \n",
        "            labels_pred = model(batch)\n",
        "            loss = loss_fn(labels_pred, labels)\n",
        "            \n",
        "            validation_batch_losses.append(float(loss))\n",
        "            \n",
        "            mean_loss = statistics.mean(validation_batch_losses)\n",
        "            \n",
        "    return mean_loss\n",
        "\n",
        "def accuracy(model, loader):\n",
        "    \n",
        "    correct = 0\n",
        "    total = 0\n",
        "    \n",
        "    model.eval()\n",
        "    \n",
        "    with torch.no_grad():\n",
        "        for batch, labels in loader:\n",
        "            batch = batch.to(cuda)\n",
        "            labels = labels.to(cuda)\n",
        "        \n",
        "            labels_pred = model(batch)\n",
        "        \n",
        "            _, predicted = torch.max(labels_pred.data, 1)\n",
        "        \n",
        "            total += labels.size(0)\n",
        "            correct += (predicted == labels).sum().item()\n",
        "        \n",
        "    return (100 * correct / total)"
      ],
      "execution_count": 0,
      "outputs": []
    },
    {
      "cell_type": "code",
      "metadata": {
        "id": "v1tvrr8jX04T",
        "colab_type": "code",
        "colab": {}
      },
      "source": [
        "model = models.resnet18(pretrained=True)\n",
        "\n",
        "# freezing the resnet by setting requires_grad to False for all parameters\n",
        "for parameter in model.parameters():\n",
        "    parameter.requires_grad = False\n",
        "\n",
        "# we need to know the number of features that are fed to the last dense layer\n",
        "num_features = model.fc.in_features\n",
        "\n",
        "# now we remove the ResNet18's classifier and replace it with a 10 classes classifier\n",
        "model.fc = nn.Linear(num_features, 10)"
      ],
      "execution_count": 0,
      "outputs": []
    },
    {
      "cell_type": "code",
      "metadata": {
        "id": "hCwmsjV4Yey9",
        "colab_type": "code",
        "colab": {
          "base_uri": "https://localhost:8080/",
          "height": 34
        },
        "outputId": "66686420-5413-4fb2-ed13-1da65fde194e"
      },
      "source": [
        "cuda = torch.device('cuda')\n",
        "\n",
        "model.to(cuda)\n",
        "\n",
        "dataiter = iter(train_loader)\n",
        "batch, labels = next(dataiter)\n",
        "batch = batch.to(cuda)\n",
        "\n",
        "output = model(batch)\n",
        "\n",
        "print(output.shape)"
      ],
      "execution_count": 7,
      "outputs": [
        {
          "output_type": "stream",
          "text": [
            "torch.Size([32, 10])\n"
          ],
          "name": "stdout"
        }
      ]
    },
    {
      "cell_type": "code",
      "metadata": {
        "id": "hu7h5AL5a1VX",
        "colab_type": "code",
        "colab": {
          "base_uri": "https://localhost:8080/",
          "height": 1000
        },
        "outputId": "8aff6e1c-584e-4cb5-c946-8ef8e95798b9"
      },
      "source": [
        "# https://pytorch.org/docs/stable/optim.html#torch.optim.SGD\n",
        "# Stochastic gradient descent optimizer\n",
        "optimizer = optim.SGD(model.fc.parameters(), lr=0.001, momentum=0.9)\n",
        "exp_lr_scheduler = lr_scheduler.StepLR(optimizer, step_size=7, gamma=0.1)\n",
        "\n",
        "loss_fn = nn.CrossEntropyLoss()\n",
        "\n",
        "EPOCHS = 20\n",
        "\n",
        "train_losses = []\n",
        "valid_losses = []\n",
        "\n",
        "train_accuracies = []\n",
        "valid_accuracies = []\n",
        "\n",
        "for epoch in range(1, 1 + EPOCHS):\n",
        "    \n",
        "    print('Epoch: ', epoch)\n",
        "    \n",
        "    train_loss = train(model, loss_fn, optimizer)\n",
        "    train_accuracy = accuracy(model, train_loader)\n",
        "    train_losses.append(train_loss)\n",
        "    train_accuracies.append(train_accuracy)\n",
        "    \n",
        "    exp_lr_scheduler.step()\n",
        "\n",
        "    print('Training loss:', train_loss)\n",
        "    print('Training accuracy: {}%'.format(train_accuracy))\n",
        "    \n",
        "    valid_loss = validate(model, loss_fn, optimizer)\n",
        "    valid_accuracy = accuracy(model, valid_loader)\n",
        "    valid_losses.append(valid_loss)\n",
        "    valid_accuracies.append(valid_accuracy)\n",
        "    \n",
        "    print('Validation loss:', valid_loss)\n",
        "    print('Validation accuracy: {}%'.format(valid_accuracy))"
      ],
      "execution_count": 8,
      "outputs": [
        {
          "output_type": "stream",
          "text": [
            "Epoch:  1\n",
            "Training loss: 1.7573044793543264\n",
            "Training accuracy: 44.878%\n",
            "Validation loss: 1.6498569558603695\n",
            "Validation accuracy: 43.73%\n",
            "Epoch:  2\n",
            "Training loss: 1.6461348545833496\n",
            "Training accuracy: 45.04%\n",
            "Validation loss: 1.6270563469146386\n",
            "Validation accuracy: 44.62%\n",
            "Epoch:  3\n",
            "Training loss: 1.6323908844287016\n",
            "Training accuracy: 46.572%\n",
            "Validation loss: 1.608224594554962\n",
            "Validation accuracy: 44.82%\n",
            "Epoch:  4\n",
            "Training loss: 1.6298352794927888\n",
            "Training accuracy: 46.57%\n",
            "Validation loss: 1.610195259697521\n",
            "Validation accuracy: 44.61%\n",
            "Epoch:  5\n",
            "Training loss: 1.6178465978655385\n",
            "Training accuracy: 45.902%\n",
            "Validation loss: 1.6283840333310942\n",
            "Validation accuracy: 44.06%\n",
            "Epoch:  6\n",
            "Training loss: 1.6215711758065057\n",
            "Training accuracy: 46.148%\n",
            "Validation loss: 1.610497868480012\n",
            "Validation accuracy: 44.63%\n",
            "Epoch:  7\n",
            "Training loss: 1.6238585553410263\n",
            "Training accuracy: 45.762%\n",
            "Validation loss: 1.626687540794714\n",
            "Validation accuracy: 44.26%\n",
            "Epoch:  8\n",
            "Training loss: 1.567732250698087\n",
            "Training accuracy: 48.222%\n",
            "Validation loss: 1.5610847728320967\n",
            "Validation accuracy: 46.73%\n",
            "Epoch:  9\n",
            "Training loss: 1.5621189502897892\n",
            "Training accuracy: 48.414%\n",
            "Validation loss: 1.5587078401455865\n",
            "Validation accuracy: 46.94%\n",
            "Epoch:  10\n",
            "Training loss: 1.5625030440317083\n",
            "Training accuracy: 47.822%\n",
            "Validation loss: 1.5754500974100618\n",
            "Validation accuracy: 46.04%\n",
            "Epoch:  11\n",
            "Training loss: 1.557020393153146\n",
            "Training accuracy: 48.196%\n",
            "Validation loss: 1.5537002086639404\n",
            "Validation accuracy: 46.95%\n",
            "Epoch:  12\n",
            "Training loss: 1.5529637344357912\n",
            "Training accuracy: 48.266%\n",
            "Validation loss: 1.5599925064812072\n",
            "Validation accuracy: 46.42%\n",
            "Epoch:  13\n",
            "Training loss: 1.5539069494526887\n",
            "Training accuracy: 47.994%\n",
            "Validation loss: 1.5585945395235055\n",
            "Validation accuracy: 46.61%\n",
            "Epoch:  14\n",
            "Training loss: 1.5517963082532584\n",
            "Training accuracy: 47.962%\n",
            "Validation loss: 1.5620011060763472\n",
            "Validation accuracy: 46.41%\n",
            "Epoch:  15\n",
            "Training loss: 1.5468752172919167\n",
            "Training accuracy: 48.2%\n",
            "Validation loss: 1.5582622872373928\n",
            "Validation accuracy: 46.7%\n",
            "Epoch:  16\n",
            "Training loss: 1.5464212520718956\n",
            "Training accuracy: 48.554%\n",
            "Validation loss: 1.5513856845161023\n",
            "Validation accuracy: 47.15%\n",
            "Epoch:  17\n",
            "Training loss: 1.5435082716432353\n",
            "Training accuracy: 48.63%\n",
            "Validation loss: 1.5523215802713706\n",
            "Validation accuracy: 47.07%\n",
            "Epoch:  18\n",
            "Training loss: 1.5519031473099996\n",
            "Training accuracy: 48.668%\n",
            "Validation loss: 1.54913151606965\n",
            "Validation accuracy: 47.29%\n",
            "Epoch:  19\n",
            "Training loss: 1.5409175792872258\n",
            "Training accuracy: 48.48%\n",
            "Validation loss: 1.556973758977823\n",
            "Validation accuracy: 47.01%\n",
            "Epoch:  20\n",
            "Training loss: 1.5492370553834272\n",
            "Training accuracy: 48.57%\n",
            "Validation loss: 1.5420391993781628\n",
            "Validation accuracy: 47.02%\n"
          ],
          "name": "stdout"
        }
      ]
    },
    {
      "cell_type": "code",
      "metadata": {
        "id": "7X02Q47sebO8",
        "colab_type": "code",
        "colab": {
          "base_uri": "https://localhost:8080/",
          "height": 529
        },
        "outputId": "ceaf3d7a-1332-4620-a0d0-8ba38cc67805"
      },
      "source": [
        "import matplotlib.pyplot as plt\n",
        "\n",
        "epochs = range(1, 1 + EPOCHS)\n",
        "\n",
        "plt.plot(epochs, train_accuracies, 'b', label='Training accuracy')\n",
        "plt.plot(epochs, valid_accuracies, 'r', label='Validation accuracy')\n",
        "plt.title('Training and validation accuracy')\n",
        "plt.legend()\n",
        "\n",
        "plt.figure()\n",
        "\n",
        "plt.plot(epochs, train_losses, 'b', label='Training loss')\n",
        "plt.plot(epochs, valid_losses, 'r', label='Validation loss')\n",
        "plt.legend()\n",
        "\n",
        "plt.show()"
      ],
      "execution_count": 9,
      "outputs": [
        {
          "output_type": "display_data",
          "data": {
            "image/png": "[encoded data removed]",
            "text/plain": [
              "<Figure size 432x288 with 1 Axes>"
            ]
          },
          "metadata": {
            "tags": []
          }
        },
        {
          "output_type": "display_data",
          "data": {
            "image/png": "[encoded data removed]",
            "text/plain": [
              "<Figure size 432x288 with 1 Axes>"
            ]
          },
          "metadata": {
            "tags": []
          }
        }
      ]
    }
  ]
}