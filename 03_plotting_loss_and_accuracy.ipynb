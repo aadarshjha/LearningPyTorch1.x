{
  "nbformat": 4,
  "nbformat_minor": 0,
  "metadata": {
    "colab": {
      "name": "03_plotting_loss_and_accuracy.ipynb",
      "provenance": [],
      "toc_visible": true,
      "include_colab_link": true
    },
    "kernelspec": {
      "name": "python3",
      "display_name": "Python 3"
    },
    "accelerator": "GPU"
  },
  "cells": [
    {
      "cell_type": "markdown",
      "metadata": {
        "id": "view-in-github",
        "colab_type": "text"
      },
      "source": [
        "<a href=\"https://colab.research.google.com/github/ccarpenterg/LearningPyTorch1.x/blob/master/03_plotting_loss_and_accuracy.ipynb\" target=\"_parent\"><img src=\"https://colab.research.google.com/assets/colab-badge.svg\" alt=\"Open In Colab\"/></a>"
      ]
    },
    {
      "cell_type": "markdown",
      "metadata": {
        "id": "QpbQezvl6r8p",
        "colab_type": "text"
      },
      "source": [
        "## Plotting Loss and Accuracy with PyTorch and Matplotlib"
      ]
    },
    {
      "cell_type": "code",
      "metadata": {
        "id": "DhUWW2i36Bd7",
        "colab_type": "code",
        "colab": {}
      },
      "source": [
        "import numpy as np\n",
        "\n",
        "import torch\n",
        "import torch.nn.functional as F\n",
        "import torch.nn as nn\n",
        "import torch.optim as optim\n",
        "import torchvision\n",
        "import torchvision.transforms as transforms\n",
        "\n",
        "from torchvision.datasets import MNIST\n",
        "from torch.utils.data import DataLoader\n",
        "\n",
        "import statistics"
      ],
      "execution_count": 0,
      "outputs": []
    },
    {
      "cell_type": "code",
      "metadata": {
        "id": "0AIgtYJI77yR",
        "colab_type": "code",
        "outputId": "bc4756ba-9c2d-459e-b2df-a813e6e053c3",
        "colab": {
          "base_uri": "https://localhost:8080/",
          "height": 51
        }
      },
      "source": [
        "print('PyTorch version:', torch.__version__)\n",
        "print('Torchvision version:', torchvision.__version__)"
      ],
      "execution_count": 14,
      "outputs": [
        {
          "output_type": "stream",
          "text": [
            "PyTorch version: 1.3.1\n",
            "Torchvision version: 0.4.2\n"
          ],
          "name": "stdout"
        }
      ]
    },
    {
      "cell_type": "code",
      "metadata": {
        "id": "EEu9EohQ8ksj",
        "colab_type": "code",
        "colab": {}
      },
      "source": [
        "class BasicCNN(nn.Module):\n",
        "    \n",
        "    \n",
        "    def __init__(self, num_channels, num_classes):\n",
        "        super(BasicCNN, self).__init__()\n",
        "        self.conv1 = nn.Conv2d(num_channels, 32, 3, stride=1, padding=0)\n",
        "        self.conv2 = nn.Conv2d(32, 64, 3, stride=1, padding=0)\n",
        "        self.conv3 = nn.Conv2d(64, 64, 3, stride=1, padding=0)\n",
        "        self.pool1 = nn.MaxPool2d(2)\n",
        "        self.pool2 = nn.MaxPool2d(2)\n",
        "        self.fc1 = nn.Linear(3*3*64, 64, bias=True)\n",
        "        self.fc2 = nn.Linear(64, 10)\n",
        "        \n",
        "    def forward(self, X):\n",
        "        x = F.relu(self.conv1(X))\n",
        "        x = self.pool1(x)\n",
        "        x = F.relu(self.conv2(x))\n",
        "        x = self.pool2(x)\n",
        "        x = F.relu(self.conv3(x))\n",
        "        x = x.reshape(-1, 3*3*64)\n",
        "        x = F.relu(self.fc1(x))\n",
        "        x = self.fc2(x)\n",
        "        return x"
      ],
      "execution_count": 0,
      "outputs": []
    },
    {
      "cell_type": "code",
      "metadata": {
        "id": "sgQzyZctMjIb",
        "colab_type": "code",
        "outputId": "1bb9f72b-48f4-49a8-bf45-ab5525085c0b",
        "colab": {
          "base_uri": "https://localhost:8080/",
          "height": 170
        }
      },
      "source": [
        "cuda = torch.device('cuda')\n",
        "\n",
        "\n",
        "# MNIST images are greyscale (1 channel) and there are 10 digits/classes \n",
        "model = BasicCNN(1, 10)\n",
        "model.to(cuda)"
      ],
      "execution_count": 16,
      "outputs": [
        {
          "output_type": "execute_result",
          "data": {
            "text/plain": [
              "BasicCNN(\n",
              "  (conv1): Conv2d(1, 32, kernel_size=(3, 3), stride=(1, 1))\n",
              "  (conv2): Conv2d(32, 64, kernel_size=(3, 3), stride=(1, 1))\n",
              "  (conv3): Conv2d(64, 64, kernel_size=(3, 3), stride=(1, 1))\n",
              "  (pool1): MaxPool2d(kernel_size=2, stride=2, padding=0, dilation=1, ceil_mode=False)\n",
              "  (pool2): MaxPool2d(kernel_size=2, stride=2, padding=0, dilation=1, ceil_mode=False)\n",
              "  (fc1): Linear(in_features=576, out_features=64, bias=True)\n",
              "  (fc2): Linear(in_features=64, out_features=10, bias=True)\n",
              ")"
            ]
          },
          "metadata": {
            "tags": []
          },
          "execution_count": 16
        }
      ]
    },
    {
      "cell_type": "code",
      "metadata": {
        "id": "iohzTEXEM4x9",
        "colab_type": "code",
        "colab": {
          "base_uri": "https://localhost:8080/",
          "height": 51
        },
        "outputId": "6cb351fd-dd80-4176-a2f3-692954a3b2fe"
      },
      "source": [
        "dataset_transform = transforms.Compose([\n",
        "    transforms.ToTensor(),\n",
        "    transforms.Normalize([0.1307], [0.3081])\n",
        "])\n",
        "\n",
        "train_set = MNIST('./mnist', train=True, download=True, transform=dataset_transform)\n",
        "valid_set = MNIST('./mnist', train=False, download=True, transform=dataset_transform)\n",
        "\n",
        "#checking the dimensions of the training and validation tensors\n",
        "print(train_set.data.shape)\n",
        "print(valid_set.data.shape)"
      ],
      "execution_count": 17,
      "outputs": [
        {
          "output_type": "stream",
          "text": [
            "torch.Size([60000, 28, 28])\n",
            "torch.Size([10000, 28, 28])\n"
          ],
          "name": "stdout"
        }
      ]
    },
    {
      "cell_type": "code",
      "metadata": {
        "id": "9IqTYVgZORDP",
        "colab_type": "code",
        "colab": {}
      },
      "source": [
        "train_loader = DataLoader(train_set, batch_size=128, num_workers=0, shuffle=True)\n",
        "valid_loader = DataLoader(valid_set, batch_size=512, num_workers=0, shuffle=False)"
      ],
      "execution_count": 0,
      "outputs": []
    },
    {
      "cell_type": "code",
      "metadata": {
        "id": "BVsu7O0lQhmj",
        "colab_type": "code",
        "colab": {}
      },
      "source": [
        "optimizer = optim.SGD(model.parameters(), lr=0.1, momentum=0.9)"
      ],
      "execution_count": 0,
      "outputs": []
    },
    {
      "cell_type": "code",
      "metadata": {
        "id": "8r-ni2IAQrL4",
        "colab_type": "code",
        "colab": {}
      },
      "source": [
        "def train(model, loss_fn, optimizer):\n",
        "    \n",
        "    model.train()\n",
        "    train_batch_losses = []\n",
        "    \n",
        "    for batch, labels in train_loader:\n",
        "        \n",
        "        batch = batch.to(cuda)\n",
        "        labels = labels.to(cuda)\n",
        "        \n",
        "        optimizer.zero_grad()\n",
        "        y_pred = model(batch)\n",
        "        loss = loss_fn(y_pred, labels)\n",
        "        loss.backward()\n",
        "        optimizer.step()\n",
        "        \n",
        "        train_batch_losses.append(float(loss))\n",
        "        mean_loss = statistics.mean(train_batch_losses)\n",
        "        \n",
        "    return mean_loss"
      ],
      "execution_count": 0,
      "outputs": []
    },
    {
      "cell_type": "code",
      "metadata": {
        "id": "w6_TgaudWnnq",
        "colab_type": "code",
        "colab": {}
      },
      "source": [
        "def validate(model, loss_fn, optimizer):\n",
        "    \n",
        "    model.eval()\n",
        "    predictions = []\n",
        "    \n",
        "    with torch.no_grad():\n",
        "        \n",
        "        validation_batch_losses = []\n",
        "        \n",
        "        for batch, labels in valid_loader:\n",
        "            \n",
        "            batch = batch.to(cuda)\n",
        "            labels = labels.to(cuda)\n",
        "            \n",
        "            labels_pred = model(batch)\n",
        "            loss = loss_fn(labels_pred, labels)\n",
        "            \n",
        "            validation_batch_losses.append(float(loss))\n",
        "            \n",
        "            mean_loss = statistics.mean(validation_batch_losses)\n",
        "            \n",
        "        return mean_loss"
      ],
      "execution_count": 0,
      "outputs": []
    },
    {
      "cell_type": "code",
      "metadata": {
        "id": "Lb7jpc0W4FYW",
        "colab_type": "code",
        "colab": {}
      },
      "source": [
        "def accuracy(model, loader):\n",
        "    \n",
        "    correct = 0\n",
        "    total = 0\n",
        "    \n",
        "    model.eval()\n",
        "    \n",
        "    with torch.no_grad():\n",
        "        for batch, labels in loader:\n",
        "            batch = batch.to(cuda)\n",
        "            labels = labels.to(cuda)\n",
        "            \n",
        "            output = model(batch)\n",
        "            \n",
        "            _, predicted = torch.max(output.data, 1)\n",
        "            \n",
        "            total += labels.size(0)\n",
        "            correct += (predicted == labels).sum().item()\n",
        "            \n",
        "            return (correct / total) * 100"
      ],
      "execution_count": 0,
      "outputs": []
    },
    {
      "cell_type": "code",
      "metadata": {
        "id": "xBgmF6ov-Y8b",
        "colab_type": "code",
        "colab": {}
      },
      "source": [
        "def training_stats(train_loss, train_accuracy, val_loss, val_accuracy):\n",
        "    print(('training loss: {:.3f} '\n",
        "           'training accuracy: {:.2f}% || '\n",
        "           'val. loss: {:.3f} '\n",
        "           'val. accuracy: {:.2f}%').format(train_loss, train_accuracy,\n",
        "                                            val_loss, val_accuracy))"
      ],
      "execution_count": 0,
      "outputs": []
    },
    {
      "cell_type": "code",
      "metadata": {
        "id": "mVyEFIKlX7Iq",
        "colab_type": "code",
        "colab": {
          "base_uri": "https://localhost:8080/",
          "height": 697
        },
        "outputId": "5acbbd85-4a10-4be1-f115-90213911d873"
      },
      "source": [
        "loss_fn = nn.CrossEntropyLoss()\n",
        "\n",
        "EPOCHS = 20\n",
        "\n",
        "train_losses = []\n",
        "valid_losses = []\n",
        "\n",
        "train_accuracies = []\n",
        "valid_accuracies = []\n",
        "\n",
        "for epoch in range(1, 1 + EPOCHS):\n",
        "    \n",
        "    train_loss = train(model, loss_fn, optimizer)\n",
        "    train_losses.append(train_loss)\n",
        "    train_accuracy = accuracy(model, train_loader)\n",
        "    train_accuracies.append(train_accuracy)\n",
        "    \n",
        "    valid_loss = validate(model, loss_fn, optimizer)\n",
        "    valid_losses.append(valid_loss)\n",
        "    valid_accuracy = accuracy(model, valid_loader)\n",
        "    valid_accuracies.append(valid_accuracy)\n",
        "    \n",
        "    print('Epoch {}/{}'.format(epoch, EPOCHS))\n",
        "\n",
        "    training_stats(train_loss, train_accuracy, valid_loss, valid_accuracy)"
      ],
      "execution_count": 24,
      "outputs": [
        {
          "output_type": "stream",
          "text": [
            "Epoch 1/20\n",
            "training loss: 0.263 training accuracy: 100.00% || val. loss: 0.059 val. accuracy: 97.27%\n",
            "Epoch 2/20\n",
            "training loss: 0.061 training accuracy: 100.00% || val. loss: 0.044 val. accuracy: 98.44%\n",
            "Epoch 3/20\n",
            "training loss: 0.048 training accuracy: 99.22% || val. loss: 0.050 val. accuracy: 99.02%\n",
            "Epoch 4/20\n",
            "training loss: 0.039 training accuracy: 96.09% || val. loss: 0.078 val. accuracy: 98.05%\n",
            "Epoch 5/20\n",
            "training loss: 0.034 training accuracy: 99.22% || val. loss: 0.035 val. accuracy: 98.24%\n",
            "Epoch 6/20\n",
            "training loss: 0.031 training accuracy: 99.22% || val. loss: 0.043 val. accuracy: 98.83%\n",
            "Epoch 7/20\n",
            "training loss: 0.028 training accuracy: 100.00% || val. loss: 0.048 val. accuracy: 99.02%\n",
            "Epoch 8/20\n",
            "training loss: 0.025 training accuracy: 99.22% || val. loss: 0.046 val. accuracy: 98.83%\n",
            "Epoch 9/20\n",
            "training loss: 0.024 training accuracy: 100.00% || val. loss: 0.057 val. accuracy: 98.44%\n",
            "Epoch 10/20\n",
            "training loss: 0.026 training accuracy: 100.00% || val. loss: 0.051 val. accuracy: 98.44%\n",
            "Epoch 11/20\n",
            "training loss: 0.020 training accuracy: 98.44% || val. loss: 0.063 val. accuracy: 98.44%\n",
            "Epoch 12/20\n",
            "training loss: 0.025 training accuracy: 100.00% || val. loss: 0.054 val. accuracy: 98.83%\n",
            "Epoch 13/20\n",
            "training loss: 0.028 training accuracy: 99.22% || val. loss: 0.049 val. accuracy: 99.41%\n",
            "Epoch 14/20\n",
            "training loss: 0.020 training accuracy: 99.22% || val. loss: 0.052 val. accuracy: 98.63%\n",
            "Epoch 15/20\n",
            "training loss: 0.021 training accuracy: 99.22% || val. loss: 0.067 val. accuracy: 98.24%\n",
            "Epoch 16/20\n",
            "training loss: 0.020 training accuracy: 100.00% || val. loss: 0.054 val. accuracy: 98.24%\n",
            "Epoch 17/20\n",
            "training loss: 0.019 training accuracy: 99.22% || val. loss: 0.055 val. accuracy: 98.63%\n",
            "Epoch 18/20\n",
            "training loss: 0.025 training accuracy: 98.44% || val. loss: 0.070 val. accuracy: 98.63%\n",
            "Epoch 19/20\n",
            "training loss: 0.033 training accuracy: 100.00% || val. loss: 0.049 val. accuracy: 98.63%\n",
            "Epoch 20/20\n",
            "training loss: 0.022 training accuracy: 99.22% || val. loss: 0.063 val. accuracy: 99.02%\n"
          ],
          "name": "stdout"
        }
      ]
    },
    {
      "cell_type": "code",
      "metadata": {
        "id": "zUW2tfjLcXyJ",
        "colab_type": "code",
        "outputId": "e276859c-0117-4aed-b192-61ae5d014110",
        "colab": {
          "base_uri": "https://localhost:8080/",
          "height": 545
        }
      },
      "source": [
        "import matplotlib.pyplot as plt\n",
        "\n",
        "epochs = range(1, len(train_losses) + 1)\n",
        "\n",
        "plt.plot(epochs, train_accuracies, 'b', label='Training Accuracies')\n",
        "plt.plot(epochs, valid_accuracies, 'r', label='Validation Accuracies')\n",
        "plt.title('Trainig and validation accuracy')\n",
        "plt.legend()\n",
        "\n",
        "plt.figure()\n",
        "\n",
        "plt.plot(epochs, train_losses, 'b', label='Training Loss')\n",
        "plt.plot(epochs, valid_losses, 'r', label='Validation Loss')\n",
        "plt.title('Training and Validation Loss')\n",
        "plt.legend()\n",
        "\n",
        "plt.show()"
      ],
      "execution_count": 26,
      "outputs": [
        {
          "output_type": "display_data",
          "data": {
            "image/png": "[encoded data removed]",
            "text/plain": [
              "<Figure size 432x288 with 1 Axes>"
            ]
          },
          "metadata": {
            "tags": []
          }
        },
        {
          "output_type": "display_data",
          "data": {
            "image/png": "[encoded data removed]",
            "text/plain": [
              "<Figure size 432x288 with 1 Axes>"
            ]
          },
          "metadata": {
            "tags": []
          }
        }
      ]
    }
  ]
}