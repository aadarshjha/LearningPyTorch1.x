{
  "nbformat": 4,
  "nbformat_minor": 0,
  "metadata": {
    "colab": {
      "name": "04_cifar-10_challenging_convnets.ipynb",
      "provenance": [],
      "toc_visible": true,
      "include_colab_link": true
    },
    "kernelspec": {
      "name": "python3",
      "display_name": "Python 3"
    },
    "accelerator": "GPU"
  },
  "cells": [
    {
      "cell_type": "markdown",
      "metadata": {
        "id": "view-in-github",
        "colab_type": "text"
      },
      "source": [
        "<a href=\"https://colab.research.google.com/github/ccarpenterg/LearningPyTorch1.x/blob/master/04_cifar_10_challenging_convnets.ipynb\" target=\"_parent\"><img src=\"https://colab.research.google.com/assets/colab-badge.svg\" alt=\"Open In Colab\"/></a>"
      ]
    },
    {
      "cell_type": "markdown",
      "metadata": {
        "id": "QOzoRVnkWAG_",
        "colab_type": "text"
      },
      "source": [
        "### CIFAR-10: A More Challenging Dataset for CNNs"
      ]
    },
    {
      "cell_type": "markdown",
      "metadata": {
        "id": "GacP-bUnoyn7",
        "colab_type": "text"
      },
      "source": [
        "(Google has upgraded to pytorch 1.2.0 and torchvision 0.4.0, but since we've been using pytorch 1.1.0 and torchvision 0.3.0, we'll install those version and upgrade to the new ones at some point in the future)"
      ]
    },
    {
      "cell_type": "code",
      "metadata": {
        "id": "uP4oGMsKgIXo",
        "colab_type": "code",
        "colab": {}
      },
      "source": [
        "!pip install torch==1.1.0 torchvision==0.3.0"
      ],
      "execution_count": 0,
      "outputs": []
    },
    {
      "cell_type": "code",
      "metadata": {
        "id": "5OnMQq70UEsO",
        "colab_type": "code",
        "colab": {}
      },
      "source": [
        "import numpy as np\n",
        "\n",
        "import torch\n",
        "import torch.nn.functional as F\n",
        "import torch.nn as nn\n",
        "import torch.optim as optim\n",
        "import torchvision\n",
        "import torchvision.transforms as transforms\n",
        "\n",
        "from torchvision.datasets import CIFAR10\n",
        "from torch.utils.data import DataLoader\n",
        "\n",
        "import statistics"
      ],
      "execution_count": 0,
      "outputs": []
    },
    {
      "cell_type": "code",
      "metadata": {
        "id": "g6dd5QSJcj49",
        "colab_type": "code",
        "outputId": "2728287a-e173-4ddc-81c7-bdd1f5b783a2",
        "colab": {
          "base_uri": "https://localhost:8080/",
          "height": 51
        }
      },
      "source": [
        "print('PyTorch version:', torch.__version__)\n",
        "print('Torchvision version:', torchvision.__version__)"
      ],
      "execution_count": 2,
      "outputs": [
        {
          "output_type": "stream",
          "text": [
            "PyTorch version: 1.3.1\n",
            "Torchvision version: 0.4.2\n"
          ],
          "name": "stdout"
        }
      ]
    },
    {
      "cell_type": "code",
      "metadata": {
        "id": "0OApIwQsWwTX",
        "colab_type": "code",
        "colab": {}
      },
      "source": [
        "class BasicCNN(nn.Module):\n",
        "    \n",
        "    def __init__(self, num_channels, num_classes):\n",
        "        super(BasicCNN, self).__init__()\n",
        "        self.conv1 = nn.Conv2d(num_channels, 32, 3, stride=1, padding=0)\n",
        "        self.conv2 = nn.Conv2d(32, 64, 3, stride=1, padding=0)\n",
        "        self.conv3 = nn.Conv2d(64, 64, 3, stride=1, padding=0)\n",
        "        self.pool1 = nn.MaxPool2d(2)\n",
        "        self.pool2 = nn.MaxPool2d(2)\n",
        "        self.fc1 = nn.Linear(4*4*64, 64, bias=True)\n",
        "        self.fc2 = nn.Linear(64, 10)\n",
        "        \n",
        "    def forward(self, X):\n",
        "        x = F.relu(self.conv1(X))\n",
        "        x = self.pool1(x)\n",
        "        x = F.relu(self.conv2(x))\n",
        "        x = self.pool2(x)\n",
        "        x = F.relu(self.conv3(x))\n",
        "        x = x.reshape(-1, 4*4*64)\n",
        "        x = F.relu(self.fc1(x))\n",
        "        x = self.fc2(x)\n",
        "        return x\n",
        "    "
      ],
      "execution_count": 0,
      "outputs": []
    },
    {
      "cell_type": "code",
      "metadata": {
        "id": "apBUjbV6Zsa-",
        "colab_type": "code",
        "outputId": "5a6202e8-f19b-4915-f5d6-260bb42e0eb7",
        "colab": {
          "base_uri": "https://localhost:8080/",
          "height": 170
        }
      },
      "source": [
        "cuda = torch.device('cuda')\n",
        "\n",
        "model = BasicCNN(3, 10)\n",
        "model.to(cuda)"
      ],
      "execution_count": 4,
      "outputs": [
        {
          "output_type": "execute_result",
          "data": {
            "text/plain": [
              "BasicCNN(\n",
              "  (conv1): Conv2d(3, 32, kernel_size=(3, 3), stride=(1, 1))\n",
              "  (conv2): Conv2d(32, 64, kernel_size=(3, 3), stride=(1, 1))\n",
              "  (conv3): Conv2d(64, 64, kernel_size=(3, 3), stride=(1, 1))\n",
              "  (pool1): MaxPool2d(kernel_size=2, stride=2, padding=0, dilation=1, ceil_mode=False)\n",
              "  (pool2): MaxPool2d(kernel_size=2, stride=2, padding=0, dilation=1, ceil_mode=False)\n",
              "  (fc1): Linear(in_features=1024, out_features=64, bias=True)\n",
              "  (fc2): Linear(in_features=64, out_features=10, bias=True)\n",
              ")"
            ]
          },
          "metadata": {
            "tags": []
          },
          "execution_count": 4
        }
      ]
    },
    {
      "cell_type": "code",
      "metadata": {
        "id": "UnMP-MCOZ0Ue",
        "colab_type": "code",
        "outputId": "1b80b243-7c16-46ba-f6d8-c27b858fbb5b",
        "colab": {
          "base_uri": "https://localhost:8080/",
          "height": 139
        }
      },
      "source": [
        "dataset_transform = transforms.Compose([\n",
        "    transforms.ToTensor()\n",
        "])\n",
        "\n",
        "train_set = CIFAR10('./cifar10', train=True, download=True, transform=dataset_transform)\n",
        "valid_set = CIFAR10('./cifar10', train=False, download=True, transform=dataset_transform)\n",
        "\n",
        "print(train_set.data.shape)\n",
        "print(valid_set.data.shape)"
      ],
      "execution_count": 5,
      "outputs": [
        {
          "output_type": "stream",
          "text": [
            "  0%|          | 0/170498071 [00:00<?, ?it/s]"
          ],
          "name": "stderr"
        },
        {
          "output_type": "stream",
          "text": [
            "Downloading https://www.cs.toronto.edu/~kriz/cifar-10-python.tar.gz to ./cifar10/cifar-10-python.tar.gz\n"
          ],
          "name": "stdout"
        },
        {
          "output_type": "stream",
          "text": [
            "170500096it [00:01, 87972293.20it/s]                               \n"
          ],
          "name": "stderr"
        },
        {
          "output_type": "stream",
          "text": [
            "Extracting ./cifar10/cifar-10-python.tar.gz to ./cifar10\n",
            "Files already downloaded and verified\n",
            "(50000, 32, 32, 3)\n",
            "(10000, 32, 32, 3)\n"
          ],
          "name": "stdout"
        }
      ]
    },
    {
      "cell_type": "code",
      "metadata": {
        "id": "sigam0A2mucV",
        "colab_type": "code",
        "colab": {}
      },
      "source": [
        "train_loader = DataLoader(train_set, batch_size=128, num_workers=0, shuffle=True)\n",
        "valid_loader = DataLoader(valid_set, batch_size=512, num_workers=0, shuffle=False)"
      ],
      "execution_count": 0,
      "outputs": []
    },
    {
      "cell_type": "code",
      "metadata": {
        "id": "jINuk6sDnAtE",
        "colab_type": "code",
        "outputId": "1304f34d-e433-432a-cbc7-d511a0180ba2",
        "colab": {
          "base_uri": "https://localhost:8080/",
          "height": 34
        }
      },
      "source": [
        "x = torch.randn(128, 3, 32, 32, device=cuda)\n",
        "output = model(x)\n",
        "print(output.shape)"
      ],
      "execution_count": 7,
      "outputs": [
        {
          "output_type": "stream",
          "text": [
            "torch.Size([128, 10])\n"
          ],
          "name": "stdout"
        }
      ]
    },
    {
      "cell_type": "markdown",
      "metadata": {
        "id": "1WEcZRKUAJeX",
        "colab_type": "text"
      },
      "source": [
        "## Training the Model\n",
        "\n",
        "**Optimizer: Stochastic Gradient Descent**"
      ]
    },
    {
      "cell_type": "code",
      "metadata": {
        "id": "FXbrWUzRnozL",
        "colab_type": "code",
        "colab": {}
      },
      "source": [
        "optimizer = optim.SGD(model.parameters(), lr=0.1, momentum=0.9)"
      ],
      "execution_count": 0,
      "outputs": []
    },
    {
      "cell_type": "markdown",
      "metadata": {
        "id": "pOybIMl-AZ15",
        "colab_type": "text"
      },
      "source": [
        "**Train function**"
      ]
    },
    {
      "cell_type": "code",
      "metadata": {
        "id": "J6cNzTpxnxh5",
        "colab_type": "code",
        "colab": {}
      },
      "source": [
        "def train(model, loss_fn, optimizer):\n",
        "    model.train()\n",
        "    \n",
        "    train_batch_losses = []\n",
        "    \n",
        "    for batch, labels in train_loader:\n",
        "        batch = batch.to(cuda)\n",
        "        labels = labels.to(cuda)\n",
        "        \n",
        "        optimizer.zero_grad()\n",
        "        y_pred = model(batch)\n",
        "        loss = loss_fn(y_pred, labels)\n",
        "        loss.backward()\n",
        "        optimizer.step()\n",
        "        \n",
        "        train_batch_losses.append(float(loss))\n",
        "        \n",
        "        mean_loss = statistics.mean(train_batch_losses)\n",
        "        \n",
        "    return mean_loss"
      ],
      "execution_count": 0,
      "outputs": []
    },
    {
      "cell_type": "markdown",
      "metadata": {
        "id": "_TXWNPNsAc_m",
        "colab_type": "text"
      },
      "source": [
        "**Validation function**"
      ]
    },
    {
      "cell_type": "code",
      "metadata": {
        "id": "gymzrcxAgGJm",
        "colab_type": "code",
        "colab": {}
      },
      "source": [
        "def validate(model, loss_fn, optimizer):\n",
        "    model.eval()\n",
        "    \n",
        "    predictions = []\n",
        "    \n",
        "    with torch.no_grad():\n",
        "        validation_batch_losses = []\n",
        "        \n",
        "        for batch, labels in valid_loader:\n",
        "            batch = batch.to(cuda)\n",
        "            labels = labels.to(cuda)\n",
        "            \n",
        "            labels_pred = model(batch)\n",
        "            loss = loss_fn(labels_pred, labels)\n",
        "            \n",
        "            validation_batch_losses.append(float(loss))\n",
        "            \n",
        "            mean_loss = statistics.mean(validation_batch_losses)\n",
        "            \n",
        "    return mean_loss"
      ],
      "execution_count": 0,
      "outputs": []
    },
    {
      "cell_type": "markdown",
      "metadata": {
        "id": "oFZvUaTiAhN_",
        "colab_type": "text"
      },
      "source": [
        "**Accuracy function**"
      ]
    },
    {
      "cell_type": "code",
      "metadata": {
        "id": "YczNCGVTJXp9",
        "colab_type": "code",
        "colab": {}
      },
      "source": [
        "def accuracy(model, loader):\n",
        "    correct = 0\n",
        "    total = 0\n",
        "    \n",
        "    model.eval()\n",
        "    \n",
        "    with torch.no_grad():\n",
        "        for batch, labels in loader:\n",
        "            batch = batch.to(cuda)\n",
        "            labels = labels.to(cuda)\n",
        "        \n",
        "            labels_pred = model(batch)\n",
        "        \n",
        "            _, predicted = torch.max(labels_pred.data, 1)\n",
        "        \n",
        "            total += labels.size(0)\n",
        "            correct += (predicted == labels).sum().item()\n",
        "        \n",
        "    return (100 * correct / total)"
      ],
      "execution_count": 0,
      "outputs": []
    },
    {
      "cell_type": "markdown",
      "metadata": {
        "id": "JsekLWQMApUZ",
        "colab_type": "text"
      },
      "source": [
        "### Training our Convnet on CIFAR-10"
      ]
    },
    {
      "cell_type": "code",
      "metadata": {
        "id": "_369wY6ILNgg",
        "colab_type": "code",
        "outputId": "6d7b6045-5fa7-4132-a2db-b9a2ec7211ea",
        "colab": {
          "base_uri": "https://localhost:8080/",
          "height": 1000
        }
      },
      "source": [
        "loss_fn = nn.CrossEntropyLoss()\n",
        "\n",
        "epochs = 30\n",
        "\n",
        "train_losses = []\n",
        "valid_losses = []\n",
        "\n",
        "train_accuracies = []\n",
        "valid_accuracies = []\n",
        "\n",
        "for epoch in range(1, epochs +  1):\n",
        "    \n",
        "    print('Epoch: ', epoch)\n",
        "    \n",
        "    train_loss = train(model, loss_fn, optimizer)\n",
        "    train_accuracy = accuracy(model, train_loader)\n",
        "    train_losses.append(train_loss)\n",
        "    train_accuracies.append(train_accuracy)\n",
        "    \n",
        "    print('Training loss:', train_loss)\n",
        "    print('Training accuracy: {}%'.format(train_accuracy))\n",
        "    \n",
        "    valid_loss = validate(model, loss_fn, optimizer)\n",
        "    valid_accuracy = accuracy(model, valid_loader)\n",
        "    valid_losses.append(valid_loss)\n",
        "    valid_accuracies.append(valid_accuracy)\n",
        "    \n",
        "    print('Validation loss:', valid_loss)\n",
        "    print('Validation accuracy: {}%'.format(valid_accuracy))"
      ],
      "execution_count": 12,
      "outputs": [
        {
          "output_type": "stream",
          "text": [
            "Epoch:  1\n",
            "Training loss: 2.1878324622083505\n",
            "Training accuracy: 28.34%\n",
            "Validation loss: 1.8684975147247314\n",
            "Validation accuracy: 28.77%\n",
            "Epoch:  2\n",
            "Training loss: 1.6938660861281178\n",
            "Training accuracy: 43.26%\n",
            "Validation loss: 1.5443188548088074\n",
            "Validation accuracy: 42.46%\n",
            "Epoch:  3\n",
            "Training loss: 1.5279795004583685\n",
            "Training accuracy: 48.056%\n",
            "Validation loss: 1.4848342716693879\n",
            "Validation accuracy: 46.43%\n",
            "Epoch:  4\n",
            "Training loss: 1.4448654450419005\n",
            "Training accuracy: 48.492%\n",
            "Validation loss: 1.479207295179367\n",
            "Validation accuracy: 46.94%\n",
            "Epoch:  5\n",
            "Training loss: 1.3808130849048\n",
            "Training accuracy: 51.564%\n",
            "Validation loss: 1.4126218497753142\n",
            "Validation accuracy: 49.43%\n",
            "Epoch:  6\n",
            "Training loss: 1.3608339287131035\n",
            "Training accuracy: 57.08%\n",
            "Validation loss: 1.3227241337299347\n",
            "Validation accuracy: 53.01%\n",
            "Epoch:  7\n",
            "Training loss: 1.3101391115456895\n",
            "Training accuracy: 58.828%\n",
            "Validation loss: 1.3047015070915222\n",
            "Validation accuracy: 54.69%\n",
            "Epoch:  8\n",
            "Training loss: 1.2613589835288885\n",
            "Training accuracy: 59.704%\n",
            "Validation loss: 1.3119638383388519\n",
            "Validation accuracy: 55.57%\n",
            "Epoch:  9\n",
            "Training loss: 1.2509700716913814\n",
            "Training accuracy: 57.458%\n",
            "Validation loss: 1.3790933072566987\n",
            "Validation accuracy: 53.04%\n",
            "Epoch:  10\n",
            "Training loss: 1.2551367500858843\n",
            "Training accuracy: 58.084%\n",
            "Validation loss: 1.4090440928936006\n",
            "Validation accuracy: 53.5%\n",
            "Epoch:  11\n",
            "Training loss: 1.2141330594296955\n",
            "Training accuracy: 60.828%\n",
            "Validation loss: 1.3508513510227202\n",
            "Validation accuracy: 55.27%\n",
            "Epoch:  12\n",
            "Training loss: 1.204512617014863\n",
            "Training accuracy: 59.866%\n",
            "Validation loss: 1.3498589277267456\n",
            "Validation accuracy: 53.93%\n",
            "Epoch:  13\n",
            "Training loss: 1.1768245895195495\n",
            "Training accuracy: 56.488%\n",
            "Validation loss: 1.5219085335731506\n",
            "Validation accuracy: 51.71%\n",
            "Epoch:  14\n",
            "Training loss: 1.1909261164457903\n",
            "Training accuracy: 62.92%\n",
            "Validation loss: 1.346410769224167\n",
            "Validation accuracy: 55.29%\n",
            "Epoch:  15\n",
            "Training loss: 1.1716122049504838\n",
            "Training accuracy: 61.566%\n",
            "Validation loss: 1.3855560779571534\n",
            "Validation accuracy: 54.4%\n",
            "Epoch:  16\n",
            "Training loss: 1.1822464338044072\n",
            "Training accuracy: 58.578%\n",
            "Validation loss: 1.4490076780319214\n",
            "Validation accuracy: 52.11%\n",
            "Epoch:  17\n",
            "Training loss: 1.1659366494554388\n",
            "Training accuracy: 59.06%\n",
            "Validation loss: 1.5104608535766602\n",
            "Validation accuracy: 52.47%\n",
            "Epoch:  18\n",
            "Training loss: 1.1798102646837454\n",
            "Training accuracy: 63.36%\n",
            "Validation loss: 1.421410071849823\n",
            "Validation accuracy: 55.05%\n",
            "Epoch:  19\n",
            "Training loss: 1.1472326172587206\n",
            "Training accuracy: 61.69%\n",
            "Validation loss: 1.4428985297679902\n",
            "Validation accuracy: 54.47%\n",
            "Epoch:  20\n",
            "Training loss: 1.1934145707303605\n",
            "Training accuracy: 61.064%\n",
            "Validation loss: 1.436565786600113\n",
            "Validation accuracy: 54.16%\n",
            "Epoch:  21\n",
            "Training loss: 1.1604849641280406\n",
            "Training accuracy: 59.83%\n",
            "Validation loss: 1.4623175859451294\n",
            "Validation accuracy: 52.46%\n",
            "Epoch:  22\n",
            "Training loss: 1.1519687110200867\n",
            "Training accuracy: 58.368%\n",
            "Validation loss: 1.4788915693759919\n",
            "Validation accuracy: 51.83%\n",
            "Epoch:  23\n",
            "Training loss: 1.1802162997557988\n",
            "Training accuracy: 62.386%\n",
            "Validation loss: 1.4182211935520173\n",
            "Validation accuracy: 55.14%\n",
            "Epoch:  24\n",
            "Training loss: 1.1814785157628072\n",
            "Training accuracy: 65.288%\n",
            "Validation loss: 1.3788715958595277\n",
            "Validation accuracy: 55.69%\n",
            "Epoch:  25\n",
            "Training loss: 1.1755262812994935\n",
            "Training accuracy: 64.942%\n",
            "Validation loss: 1.3683101177215575\n",
            "Validation accuracy: 56.56%\n",
            "Epoch:  26\n",
            "Training loss: 1.1381054906284107\n",
            "Training accuracy: 62.45%\n",
            "Validation loss: 1.4522606074810027\n",
            "Validation accuracy: 54.39%\n",
            "Epoch:  27\n",
            "Training loss: 1.1661612737514173\n",
            "Training accuracy: 63.966%\n",
            "Validation loss: 1.46477472782135\n",
            "Validation accuracy: 54.73%\n",
            "Epoch:  28\n",
            "Training loss: 1.1572241277036155\n",
            "Training accuracy: 63.856%\n",
            "Validation loss: 1.4210564196109772\n",
            "Validation accuracy: 54.69%\n",
            "Epoch:  29\n",
            "Training loss: 1.174924724394708\n",
            "Training accuracy: 59.536%\n",
            "Validation loss: 1.4679131150245666\n",
            "Validation accuracy: 52.5%\n",
            "Epoch:  30\n",
            "Training loss: 1.1943028710992134\n",
            "Training accuracy: 62.304%\n",
            "Validation loss: 1.5617969036102295\n",
            "Validation accuracy: 54.22%\n"
          ],
          "name": "stdout"
        }
      ]
    },
    {
      "cell_type": "code",
      "metadata": {
        "id": "oFOKWrC7pn_y",
        "colab_type": "code",
        "outputId": "ac498853-7c4c-4316-ec61-f7bfe44b3de4",
        "colab": {
          "base_uri": "https://localhost:8080/",
          "height": 529
        }
      },
      "source": [
        "import matplotlib.pyplot as plt\n",
        "\n",
        "epochs = range(1, 30 + 1)\n",
        "\n",
        "plt.plot(epochs, train_accuracies, 'b', label='Training accuracy')\n",
        "plt.plot(epochs, valid_accuracies, 'r', label='Validation accuracy')\n",
        "plt.title('Training and validation accuracy')\n",
        "plt.legend()\n",
        "\n",
        "plt.figure()\n",
        "\n",
        "plt.plot(epochs, train_losses, 'b', label='Training loss')\n",
        "plt.plot(epochs, valid_losses, 'r', label='Validation loss')\n",
        "plt.legend()\n",
        "\n",
        "plt.show()"
      ],
      "execution_count": 19,
      "outputs": [
        {
          "output_type": "display_data",
          "data": {
            "image/png": "[encoded data removed]",
            "text/plain": [
              "<Figure size 432x288 with 1 Axes>"
            ]
          },
          "metadata": {
            "tags": []
          }
        },
        {
          "output_type": "display_data",
          "data": {
            "image/png": "[encoded data removed]",
            "text/plain": [
              "<Figure size 432x288 with 1 Axes>"
            ]
          },
          "metadata": {
            "tags": []
          }
        }
      ]
    }
  ]
}