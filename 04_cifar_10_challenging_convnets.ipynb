{
  "nbformat": 4,
  "nbformat_minor": 0,
  "metadata": {
    "colab": {
      "name": "04_cifar-10_challenging_convnets.ipynb",
      "provenance": [],
      "toc_visible": true,
      "include_colab_link": true
    },
    "kernelspec": {
      "name": "python3",
      "display_name": "Python 3"
    },
    "accelerator": "GPU"
  },
  "cells": [
    {
      "cell_type": "markdown",
      "metadata": {
        "id": "view-in-github",
        "colab_type": "text"
      },
      "source": [
        "<a href=\"https://colab.research.google.com/github/ccarpenterg/LearningPyTorch1.x/blob/master/04_cifar_10_challenging_convnets.ipynb\" target=\"_parent\"><img src=\"https://colab.research.google.com/assets/colab-badge.svg\" alt=\"Open In Colab\"/></a>"
      ]
    },
    {
      "cell_type": "markdown",
      "metadata": {
        "id": "QOzoRVnkWAG_",
        "colab_type": "text"
      },
      "source": [
        "### CIFAR-10: A More Challenging Dataset for CNNs"
      ]
    },
    {
      "cell_type": "markdown",
      "metadata": {
        "id": "GacP-bUnoyn7",
        "colab_type": "text"
      },
      "source": [
        "(Google has upgraded to pytorch 1.2.0 and torchvision 0.4.0, but since we've been using pytorch 1.1.0 and torchvision 0.3.0, we'll install those version and upgrade to the new ones at some point in the future)"
      ]
    },
    {
      "cell_type": "code",
      "metadata": {
        "id": "uP4oGMsKgIXo",
        "colab_type": "code",
        "colab": {}
      },
      "source": [
        "!pip install torch==1.1.0 torchvision==0.3.0"
      ],
      "execution_count": 0,
      "outputs": []
    },
    {
      "cell_type": "code",
      "metadata": {
        "id": "5OnMQq70UEsO",
        "colab_type": "code",
        "colab": {}
      },
      "source": [
        "import numpy as np\n",
        "\n",
        "import torch\n",
        "import torch.nn.functional as F\n",
        "import torch.nn as nn\n",
        "import torch.optim as optim\n",
        "import torchvision\n",
        "import torchvision.transforms as transforms\n",
        "\n",
        "from torchvision.datasets import CIFAR10\n",
        "from torch.utils.data import DataLoader\n",
        "\n",
        "import statistics"
      ],
      "execution_count": 0,
      "outputs": []
    },
    {
      "cell_type": "code",
      "metadata": {
        "id": "g6dd5QSJcj49",
        "colab_type": "code",
        "outputId": "daa63f4d-a763-4a84-a9b7-b83f0acae80e",
        "colab": {
          "base_uri": "https://localhost:8080/",
          "height": 51
        }
      },
      "source": [
        "print('PyTorch version:', torch.__version__)\n",
        "print('Torchvision version:', torchvision.__version__)"
      ],
      "execution_count": 3,
      "outputs": [
        {
          "output_type": "stream",
          "text": [
            "PyTorch version: 1.1.0\n",
            "Torchvision version: 0.3.0\n"
          ],
          "name": "stdout"
        }
      ]
    },
    {
      "cell_type": "code",
      "metadata": {
        "id": "0OApIwQsWwTX",
        "colab_type": "code",
        "colab": {}
      },
      "source": [
        "class BasicCNN(nn.Module):\n",
        "    \n",
        "    def __init__(self, num_channels, num_classes):\n",
        "        super(BasicCNN, self).__init__()\n",
        "        self.conv1 = nn.Conv2d(num_channels, 32, 3, stride=1, padding=0)\n",
        "        self.conv2 = nn.Conv2d(32, 64, 3, stride=1, padding=0)\n",
        "        self.conv3 = nn.Conv2d(64, 64, 3, stride=1, padding=0)\n",
        "        self.pool1 = nn.MaxPool2d(2)\n",
        "        self.pool2 = nn.MaxPool2d(2)\n",
        "        self.fc1 = nn.Linear(4*4*64, 64, bias=True)\n",
        "        self.fc2 = nn.Linear(64, 10)\n",
        "        \n",
        "    def forward(self, X):\n",
        "        x = F.relu(self.conv1(X))\n",
        "        x = self.pool1(x)\n",
        "        x = F.relu(self.conv2(x))\n",
        "        x = self.pool2(x)\n",
        "        x = F.relu(self.conv3(x))\n",
        "        x = x.reshape(-1, 4*4*64)\n",
        "        x = F.relu(self.fc1(x))\n",
        "        x = self.fc2(x)\n",
        "        return x\n",
        "    "
      ],
      "execution_count": 0,
      "outputs": []
    },
    {
      "cell_type": "code",
      "metadata": {
        "id": "apBUjbV6Zsa-",
        "colab_type": "code",
        "outputId": "64ecf9db-f3f0-4592-d524-13f34b1bd978",
        "colab": {
          "base_uri": "https://localhost:8080/",
          "height": 170
        }
      },
      "source": [
        "cuda = torch.device('cuda')\n",
        "\n",
        "model = BasicCNN(3, 10)\n",
        "model.to(cuda)"
      ],
      "execution_count": 5,
      "outputs": [
        {
          "output_type": "execute_result",
          "data": {
            "text/plain": [
              "BasicCNN(\n",
              "  (conv1): Conv2d(3, 32, kernel_size=(3, 3), stride=(1, 1))\n",
              "  (conv2): Conv2d(32, 64, kernel_size=(3, 3), stride=(1, 1))\n",
              "  (conv3): Conv2d(64, 64, kernel_size=(3, 3), stride=(1, 1))\n",
              "  (pool1): MaxPool2d(kernel_size=2, stride=2, padding=0, dilation=1, ceil_mode=False)\n",
              "  (pool2): MaxPool2d(kernel_size=2, stride=2, padding=0, dilation=1, ceil_mode=False)\n",
              "  (fc1): Linear(in_features=1024, out_features=64, bias=True)\n",
              "  (fc2): Linear(in_features=64, out_features=10, bias=True)\n",
              ")"
            ]
          },
          "metadata": {
            "tags": []
          },
          "execution_count": 5
        }
      ]
    },
    {
      "cell_type": "code",
      "metadata": {
        "id": "UnMP-MCOZ0Ue",
        "colab_type": "code",
        "colab": {
          "base_uri": "https://localhost:8080/",
          "height": 122
        },
        "outputId": "cc9c6d2a-616a-4f51-c954-efd3e14fe5b7"
      },
      "source": [
        "dataset_transform = transforms.Compose([\n",
        "    transforms.ToTensor()\n",
        "])\n",
        "\n",
        "train_set = CIFAR10('./cifar10', train=True, download=True, transform=dataset_transform)\n",
        "valid_set = CIFAR10('./cifar10', train=False, download=True, transform=dataset_transform)\n",
        "\n",
        "print(train_set.data.shape)\n",
        "print(valid_set.data.shape)"
      ],
      "execution_count": 6,
      "outputs": [
        {
          "output_type": "stream",
          "text": [
            "\r0it [00:00, ?it/s]"
          ],
          "name": "stderr"
        },
        {
          "output_type": "stream",
          "text": [
            "Downloading https://www.cs.toronto.edu/~kriz/cifar-10-python.tar.gz to ./cifar10/cifar-10-python.tar.gz\n"
          ],
          "name": "stdout"
        },
        {
          "output_type": "stream",
          "text": [
            "170500096it [00:06, 27776646.46it/s]                               \n"
          ],
          "name": "stderr"
        },
        {
          "output_type": "stream",
          "text": [
            "Files already downloaded and verified\n",
            "(50000, 32, 32, 3)\n",
            "(10000, 32, 32, 3)\n"
          ],
          "name": "stdout"
        }
      ]
    },
    {
      "cell_type": "code",
      "metadata": {
        "id": "sigam0A2mucV",
        "colab_type": "code",
        "colab": {}
      },
      "source": [
        "train_loader = DataLoader(train_set, batch_size=128, num_workers=0, shuffle=True)\n",
        "valid_loader = DataLoader(valid_set, batch_size=512, num_workers=0, shuffle=False)"
      ],
      "execution_count": 0,
      "outputs": []
    },
    {
      "cell_type": "code",
      "metadata": {
        "id": "jINuk6sDnAtE",
        "colab_type": "code",
        "outputId": "ddd32573-e4f1-417f-b969-9634cfbc960f",
        "colab": {
          "base_uri": "https://localhost:8080/",
          "height": 34
        }
      },
      "source": [
        "x = torch.randn(128, 3, 32, 32, device=cuda)\n",
        "output = model(x)\n",
        "print(output.shape)"
      ],
      "execution_count": 8,
      "outputs": [
        {
          "output_type": "stream",
          "text": [
            "torch.Size([128, 10])\n"
          ],
          "name": "stdout"
        }
      ]
    },
    {
      "cell_type": "markdown",
      "metadata": {
        "id": "1WEcZRKUAJeX",
        "colab_type": "text"
      },
      "source": [
        "## Training the Model\n",
        "\n",
        "**Optimizer: Stochastic Gradient Descent**"
      ]
    },
    {
      "cell_type": "code",
      "metadata": {
        "id": "FXbrWUzRnozL",
        "colab_type": "code",
        "colab": {}
      },
      "source": [
        "optimizer = optim.SGD(model.parameters(), lr=0.1, momentum=0.9)"
      ],
      "execution_count": 0,
      "outputs": []
    },
    {
      "cell_type": "markdown",
      "metadata": {
        "id": "pOybIMl-AZ15",
        "colab_type": "text"
      },
      "source": [
        "**Train function**"
      ]
    },
    {
      "cell_type": "code",
      "metadata": {
        "id": "J6cNzTpxnxh5",
        "colab_type": "code",
        "colab": {}
      },
      "source": [
        "def train(model, loss_fn, optimizer):\n",
        "    model.train()\n",
        "    \n",
        "    train_batch_losses = []\n",
        "    \n",
        "    for batch, labels in train_loader:\n",
        "        batch = batch.to(cuda)\n",
        "        labels = labels.to(cuda)\n",
        "        \n",
        "        optimizer.zero_grad()\n",
        "        y_pred = model(batch)\n",
        "        loss = loss_fn(y_pred, labels)\n",
        "        loss.backward()\n",
        "        optimizer.step()\n",
        "        \n",
        "        train_batch_losses.append(float(loss))\n",
        "        \n",
        "        mean_loss = statistics.mean(train_batch_losses)\n",
        "        \n",
        "    return mean_loss"
      ],
      "execution_count": 0,
      "outputs": []
    },
    {
      "cell_type": "markdown",
      "metadata": {
        "id": "_TXWNPNsAc_m",
        "colab_type": "text"
      },
      "source": [
        "**Validation function**"
      ]
    },
    {
      "cell_type": "code",
      "metadata": {
        "id": "gymzrcxAgGJm",
        "colab_type": "code",
        "colab": {}
      },
      "source": [
        "def validate(model, loss_fn, optimizer):\n",
        "    model.eval()\n",
        "    \n",
        "    predictions = []\n",
        "    \n",
        "    with torch.no_grad():\n",
        "        validation_batch_losses = []\n",
        "        \n",
        "        for batch, labels in valid_loader:\n",
        "            batch = batch.to(cuda)\n",
        "            labels = labels.to(cuda)\n",
        "            \n",
        "            labels_pred = model(batch)\n",
        "            loss = loss_fn(labels_pred, labels)\n",
        "            \n",
        "            validation_batch_losses.append(float(loss))\n",
        "            \n",
        "            mean_loss = statistics.mean(validation_batch_losses)\n",
        "            \n",
        "    return mean_loss"
      ],
      "execution_count": 0,
      "outputs": []
    },
    {
      "cell_type": "markdown",
      "metadata": {
        "id": "oFZvUaTiAhN_",
        "colab_type": "text"
      },
      "source": [
        "**Accuracy function**"
      ]
    },
    {
      "cell_type": "code",
      "metadata": {
        "id": "YczNCGVTJXp9",
        "colab_type": "code",
        "colab": {}
      },
      "source": [
        "def accuracy(model, loader):\n",
        "    correct = 0\n",
        "    total = 0\n",
        "    \n",
        "    model.eval()\n",
        "    \n",
        "    with torch.no_grad():\n",
        "        for batch, labels in loader:\n",
        "            batch = batch.to(cuda)\n",
        "            labels = labels.to(cuda)\n",
        "        \n",
        "            labels_pred = model(batch)\n",
        "        \n",
        "            _, predicted = torch.max(labels_pred.data, 1)\n",
        "        \n",
        "            total += labels.size(0)\n",
        "            correct += (predicted == labels).sum().item()\n",
        "        \n",
        "    return (100 * correct / total)"
      ],
      "execution_count": 0,
      "outputs": []
    },
    {
      "cell_type": "markdown",
      "metadata": {
        "id": "JsekLWQMApUZ",
        "colab_type": "text"
      },
      "source": [
        "### Training our Convnet on CIFAR-10"
      ]
    },
    {
      "cell_type": "code",
      "metadata": {
        "id": "_369wY6ILNgg",
        "colab_type": "code",
        "outputId": "0732535e-715d-4118-cd6e-6ef6343b1400",
        "colab": {
          "base_uri": "https://localhost:8080/",
          "height": 1000
        }
      },
      "source": [
        "loss_fn = nn.CrossEntropyLoss()\n",
        "\n",
        "epochs = 30\n",
        "\n",
        "train_losses = []\n",
        "valid_losses = []\n",
        "\n",
        "train_accuracies = []\n",
        "valid_accuracies = []\n",
        "\n",
        "for epoch in range(1, epochs +  1):\n",
        "    \n",
        "    print('Epoch: ', epoch)\n",
        "    \n",
        "    train_loss = train(model, loss_fn, optimizer)\n",
        "    train_accuracy = accuracy(model, train_loader)\n",
        "    train_losses.append(train_loss)\n",
        "    train_accuracies.append(train_accuracy)\n",
        "    \n",
        "    print('Training loss:', train_loss)\n",
        "    print('Training accuracy: {}%'.format(train_accuracy))\n",
        "    \n",
        "    valid_loss = validate(model, loss_fn, optimizer)\n",
        "    valid_accuracy = accuracy(model, valid_loader)\n",
        "    valid_losses.append(valid_loss)\n",
        "    valid_accuracies.append(valid_accuracy)\n",
        "    \n",
        "    print('Validation loss:', valid_loss)\n",
        "    print('Validation accuracy: {}%'.format(valid_accuracy))"
      ],
      "execution_count": 13,
      "outputs": [
        {
          "output_type": "stream",
          "text": [
            "Epoch:  1\n",
            "Training loss: 2.295429232785159\n",
            "Training accuracy: 19.036%\n",
            "Validation loss: 2.1821035504341126\n",
            "Validation accuracy: 19.04%\n",
            "Epoch:  2\n",
            "Training loss: 1.869361729573106\n",
            "Training accuracy: 40.316%\n",
            "Validation loss: 1.6339983463287353\n",
            "Validation accuracy: 39.75%\n",
            "Epoch:  3\n",
            "Training loss: 1.5806668481558486\n",
            "Training accuracy: 44.288%\n",
            "Validation loss: 1.5579883456230164\n",
            "Validation accuracy: 44.05%\n",
            "Epoch:  4\n",
            "Training loss: 1.4796092202291464\n",
            "Training accuracy: 50.994%\n",
            "Validation loss: 1.439393585920334\n",
            "Validation accuracy: 49.36%\n",
            "Epoch:  5\n",
            "Training loss: 1.3636612636049081\n",
            "Training accuracy: 52.0%\n",
            "Validation loss: 1.4587942898273467\n",
            "Validation accuracy: 49.64%\n",
            "Epoch:  6\n",
            "Training loss: 1.3048934503589444\n",
            "Training accuracy: 54.2%\n",
            "Validation loss: 1.3889910638332368\n",
            "Validation accuracy: 50.92%\n",
            "Epoch:  7\n",
            "Training loss: 1.2531360500608868\n",
            "Training accuracy: 58.998%\n",
            "Validation loss: 1.3036231875419617\n",
            "Validation accuracy: 55.38%\n",
            "Epoch:  8\n",
            "Training loss: 1.224798866245143\n",
            "Training accuracy: 62.006%\n",
            "Validation loss: 1.2460871517658234\n",
            "Validation accuracy: 57.44%\n",
            "Epoch:  9\n",
            "Training loss: 1.2010603874845578\n",
            "Training accuracy: 50.622%\n",
            "Validation loss: 1.5304061949253083\n",
            "Validation accuracy: 47.72%\n",
            "Epoch:  10\n",
            "Training loss: 1.2012160133827678\n",
            "Training accuracy: 59.306%\n",
            "Validation loss: 1.3569059550762177\n",
            "Validation accuracy: 54.58%\n",
            "Epoch:  11\n",
            "Training loss: 1.1549714690888935\n",
            "Training accuracy: 62.11%\n",
            "Validation loss: 1.3251356482505798\n",
            "Validation accuracy: 55.72%\n",
            "Epoch:  12\n",
            "Training loss: 1.1316833503715826\n",
            "Training accuracy: 62.96%\n",
            "Validation loss: 1.2733722448348999\n",
            "Validation accuracy: 56.63%\n",
            "Epoch:  13\n",
            "Training loss: 1.1249183334048143\n",
            "Training accuracy: 63.004%\n",
            "Validation loss: 1.3160658419132232\n",
            "Validation accuracy: 56.14%\n",
            "Epoch:  14\n",
            "Training loss: 1.1671286396053442\n",
            "Training accuracy: 62.414%\n",
            "Validation loss: 1.3010632336139678\n",
            "Validation accuracy: 56.72%\n",
            "Epoch:  15\n",
            "Training loss: 1.1576250622339566\n",
            "Training accuracy: 61.19%\n",
            "Validation loss: 1.3954564571380614\n",
            "Validation accuracy: 54.24%\n",
            "Epoch:  16\n",
            "Training loss: 1.1616913391196209\n",
            "Training accuracy: 59.012%\n",
            "Validation loss: 1.435567671060562\n",
            "Validation accuracy: 52.34%\n",
            "Epoch:  17\n",
            "Training loss: 1.148201339689972\n",
            "Training accuracy: 62.144%\n",
            "Validation loss: 1.3836641550064086\n",
            "Validation accuracy: 54.67%\n",
            "Epoch:  18\n",
            "Training loss: 1.1424527813101668\n",
            "Training accuracy: 65.792%\n",
            "Validation loss: 1.3234164118766785\n",
            "Validation accuracy: 57.36%\n",
            "Epoch:  19\n",
            "Training loss: 1.1353735621932828\n",
            "Training accuracy: 63.276%\n",
            "Validation loss: 1.396073681116104\n",
            "Validation accuracy: 55.78%\n",
            "Epoch:  20\n",
            "Training loss: 1.1513061043246628\n",
            "Training accuracy: 61.542%\n",
            "Validation loss: 1.4569553971290587\n",
            "Validation accuracy: 53.73%\n",
            "Epoch:  21\n",
            "Training loss: 1.1548557208322199\n",
            "Training accuracy: 65.776%\n",
            "Validation loss: 1.3936335444450378\n",
            "Validation accuracy: 56.19%\n",
            "Epoch:  22\n",
            "Training loss: 1.1308392920457493\n",
            "Training accuracy: 65.02%\n",
            "Validation loss: 1.4352076947689056\n",
            "Validation accuracy: 56.54%\n",
            "Epoch:  23\n",
            "Training loss: 1.1242758965553226\n",
            "Training accuracy: 60.022%\n",
            "Validation loss: 1.507871687412262\n",
            "Validation accuracy: 53.32%\n",
            "Epoch:  24\n",
            "Training loss: 1.133967306760266\n",
            "Training accuracy: 67.666%\n",
            "Validation loss: 1.377147138118744\n",
            "Validation accuracy: 57.58%\n",
            "Epoch:  25\n",
            "Training loss: 1.149354493374105\n",
            "Training accuracy: 66.474%\n",
            "Validation loss: 1.4243977606296538\n",
            "Validation accuracy: 56.86%\n",
            "Epoch:  26\n",
            "Training loss: 1.149534576994074\n",
            "Training accuracy: 63.338%\n",
            "Validation loss: 1.4586105704307557\n",
            "Validation accuracy: 53.98%\n",
            "Epoch:  27\n",
            "Training loss: 1.1945071715832976\n",
            "Training accuracy: 61.084%\n",
            "Validation loss: 1.5515722751617431\n",
            "Validation accuracy: 53.05%\n",
            "Epoch:  28\n",
            "Training loss: 1.1958319747539432\n",
            "Training accuracy: 65.646%\n",
            "Validation loss: 1.4370404481887817\n",
            "Validation accuracy: 55.69%\n",
            "Epoch:  29\n",
            "Training loss: 1.181994173075537\n",
            "Training accuracy: 64.91%\n",
            "Validation loss: 1.4537414371967317\n",
            "Validation accuracy: 55.21%\n",
            "Epoch:  30\n",
            "Training loss: 1.1645862647639516\n",
            "Training accuracy: 60.632%\n",
            "Validation loss: 1.6073139131069183\n",
            "Validation accuracy: 53.56%\n"
          ],
          "name": "stdout"
        }
      ]
    },
    {
      "cell_type": "code",
      "metadata": {
        "id": "oFOKWrC7pn_y",
        "colab_type": "code",
        "colab": {
          "base_uri": "https://localhost:8080/",
          "height": 533
        },
        "outputId": "0e7404d5-0be1-4100-e1fc-b57c9fe68248"
      },
      "source": [
        "import matplotlib.pyplot as plt\n",
        "\n",
        "epochs = range(1, epochs + 1)\n",
        "\n",
        "plt.plot(epochs, train_accuracies, 'bo', label='Training accuracy')\n",
        "plt.plot(epochs, valid_accuracies, 'b', label='Validation accuracy')\n",
        "plt.title('Training and validation accuracy')\n",
        "plt.legend()\n",
        "\n",
        "plt.figure()\n",
        "\n",
        "plt.plot(epochs, train_losses, 'bo', label='Training loss')\n",
        "plt.plot(epochs, valid_losses, 'b', label='Validation loss')\n",
        "plt.legend()\n",
        "\n",
        "plt.show()"
      ],
      "execution_count": 15,
      "outputs": [
        {
          "output_type": "display_data",
          "data": {
            "image/png": "[encoded data removed]",
            "text/plain": [
              "<Figure size 432x288 with 1 Axes>"
            ]
          },
          "metadata": {
            "tags": []
          }
        },
        {
          "output_type": "display_data",
          "data": {
            "image/png": "[encoded data removed]",
            "text/plain": [
              "<Figure size 432x288 with 1 Axes>"
            ]
          },
          "metadata": {
            "tags": []
          }
        }
      ]
    }
  ]
}