{
  "nbformat": 4,
  "nbformat_minor": 0,
  "metadata": {
    "colab": {
      "name": "01_getting_started_with_pytorch.ipynb",
      "version": "0.3.2",
      "provenance": [],
      "collapsed_sections": [],
      "toc_visible": true,
      "include_colab_link": true
    },
    "kernelspec": {
      "name": "python3",
      "display_name": "Python 3"
    },
    "accelerator": "GPU"
  },
  "cells": [
    {
      "cell_type": "markdown",
      "metadata": {
        "id": "view-in-github",
        "colab_type": "text"
      },
      "source": [
        "<a href=\"https://colab.research.google.com/github/ccarpenterg/LearningPyTorch1.x/blob/master/01_getting_started_with_pytorch.ipynb\" target=\"_parent\"><img src=\"https://colab.research.google.com/assets/colab-badge.svg\" alt=\"Open In Colab\"/></a>"
      ]
    },
    {
      "cell_type": "markdown",
      "metadata": {
        "id": "qsDBlN9rzm0E",
        "colab_type": "text"
      },
      "source": [
        "## Getting Started in PyTorch: Training a NN on MNIST\n",
        "\n",
        "This a small series of notebooks in which I introduce PyTorch, which is Facebook's machine learning framework."
      ]
    },
    {
      "cell_type": "markdown",
      "metadata": {
        "id": "MZTfbDBH0XQ-",
        "colab_type": "text"
      },
      "source": [
        "Let's start by importing torch, which is the main library, torchvision and numpy:"
      ]
    },
    {
      "cell_type": "code",
      "metadata": {
        "id": "XEMdXm--R0XN",
        "colab_type": "code",
        "colab": {}
      },
      "source": [
        "import numpy as np\n",
        "\n",
        "import torch\n",
        "import torch.nn.functional as F\n",
        "import torch.nn as nn\n",
        "import torch.optim as optim\n",
        "import torchvision\n",
        "import torchvision.transforms as transforms\n",
        "\n",
        "from torchvision.datasets import MNIST\n",
        "from torch.utils.data import DataLoader"
      ],
      "execution_count": 0,
      "outputs": []
    },
    {
      "cell_type": "markdown",
      "metadata": {
        "id": "-RK6E55_1ALO",
        "colab_type": "text"
      },
      "source": [
        "torch is"
      ]
    },
    {
      "cell_type": "code",
      "metadata": {
        "id": "crqFErSxekd7",
        "colab_type": "code",
        "outputId": "60435726-0154-4978-a48c-3e39773868ae",
        "colab": {
          "base_uri": "https://localhost:8080/",
          "height": 51
        }
      },
      "source": [
        "print('PyTorch version:', torch.__version__)\n",
        "print('Torchvision version:', torchvision.__version__)"
      ],
      "execution_count": 0,
      "outputs": [
        {
          "output_type": "stream",
          "text": [
            "PyTorch version: 1.1.0\n",
            "Torchvision version: 0.3.0\n"
          ],
          "name": "stdout"
        }
      ]
    },
    {
      "cell_type": "markdown",
      "metadata": {
        "id": "XcLTpCU2jSVq",
        "colab_type": "text"
      },
      "source": [
        "### Simple Neural Network\n",
        "\n",
        "We will start with the basic example of a shallow NN: an input layer, a hidden layer and the output layer. We'll use dropout to avoid overfitting."
      ]
    },
    {
      "cell_type": "code",
      "metadata": {
        "id": "JM-ForR-l6jB",
        "colab_type": "code",
        "colab": {}
      },
      "source": [
        "class BasicNN(nn.module):\n",
        "    \n",
        "    def __init__(self, input_size, hidden_size, num_classes):\n",
        "        super(BasicNN, self).__init__()\n",
        "        self.fc1 = nn.Linear(input_size, hidden_size)\n",
        "        self.fc2 = nn.Linear(hidden_size, num_classes)\n",
        "        self.drop = nn.Dropout(0.2)\n",
        "        self.relu = nn.ReLU()\n",
        "        \n",
        "    def forward(self, x):\n",
        "        x = self.fc1(x)\n",
        "        x = self.relu(x)\n",
        "        x = self.drop(x)\n",
        "        x = self.fc2(x)\n",
        "        return x"
      ],
      "execution_count": 0,
      "outputs": []
    },
    {
      "cell_type": "markdown",
      "metadata": {
        "id": "i6tKMYL56u-f",
        "colab_type": "text"
      },
      "source": [
        "### MNIST"
      ]
    },
    {
      "cell_type": "code",
      "metadata": {
        "id": "TDj5nPWK7BjA",
        "colab_type": "code",
        "colab": {}
      },
      "source": [
        "train_transform = transforms.Compose([\n",
        "    transforms.ToTensor(),\n",
        "    transforms.Normalize([0.1307], [0.3081])\n",
        "])\n",
        "\n",
        "valid_transform = train_transform\n",
        "\n",
        "train_set = MNIST('./data/mnist', train=True, download=True, transform=train_transform)\n",
        "valid_set = MNIST('./data/mnist', train=False, download=True, transform=train_transform)"
      ],
      "execution_count": 0,
      "outputs": []
    }
  ]
}